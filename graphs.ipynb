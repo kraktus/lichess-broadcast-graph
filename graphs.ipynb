{
 "cells": [
  {
   "cell_type": "code",
   "execution_count": null,
   "id": "fc923fe1-3b5f-46d9-bc84-e89d9f982106",
   "metadata": {},
   "outputs": [],
   "source": [
    "import datetime as dt\n",
    "import numpy as np\n",
    "import pandas as pd\n",
    "import matplotlib as mpl\n",
    "import matplotlib.pyplot as plt\n",
    "import matplotlib.dates as mdates\n",
    "import re\n",
    "\n",
    "from pathlib import Path\n",
    "\n",
    "# Define global style of the plt for all graphs\n",
    "# /!\\ Note that using BOTH style is important (in this order)\n",
    "plt.style.use(\"seaborn-v0_8-dark\")\n",
    "plt.style.use(\"dark_background\")\n",
    "plt.rcParams['axes.facecolor'] = \"#444445\" # \"#444445\" # darker is \"#262421\"\n",
    "plt.rcParams[\"figure.facecolor\"] = \"#333\" #\"#333\" # \"#darker is \"#161612\"\n",
    "plt.rcParams[\"grid.color\"] = \"#fff\"\n",
    "plt.rcParams[\"grid.linestyle\"] = \"-.\"\n",
    "plt.rcParams[\"grid.linewidth\"] = 0.2\n",
    "plt.rcParams[\"axes.grid\"] = True\n",
    "plt.rcParams[\"savefig.dpi\"] = 400\n",
    "plt.rcParams[\"savefig.facecolor\"] = \"auto\"\n",
    "DFT_HEIGHT = 4.8 # inches\n",
    "DFT_WIDTH = 6.4 # inches"
   ]
  },
  {
   "cell_type": "code",
   "execution_count": null,
   "id": "214453f8-e7b4-48c6-bf91-70a415bec723",
   "metadata": {},
   "outputs": [],
   "source": [
    "df = pd.read_csv(\"stats.csv\", parse_dates=['date'])\n",
    "df.set_index('date', inplace=True)\n",
    "df"
   ]
  },
  {
   "cell_type": "code",
   "execution_count": null,
   "id": "92bd483c-3dce-46a5-b210-f2b797dc474c",
   "metadata": {},
   "outputs": [],
   "source": [
    "df.plot()"
   ]
  },
  {
   "cell_type": "code",
   "execution_count": null,
   "id": "113749f4-3f6a-4eee-9d77-d31b7053ce00",
   "metadata": {},
   "outputs": [],
   "source": [
    "window_size = 30\n",
    "broadcast = df['broadcasts'].rolling(window=window_size).mean().dropna()\n",
    "officials = df['officials'].rolling(window=window_size).mean().dropna()\n",
    "officials"
   ]
  },
  {
   "cell_type": "code",
   "execution_count": null,
   "id": "3d6165c9-617a-42d4-bf6e-d8aac80c4973",
   "metadata": {},
   "outputs": [],
   "source": [
    "title = \"Rolling Average of Active Official Lichess Broadcasts\"\n",
    "y_label = f\"Active Broadcast ({window_size} rolling average)\"\n",
    "ax = officials.plot(color = [\"#f75802\"],title=title,ylabel=y_label) #c64b07 lichess, #d8540d ligther, #f75802 even lighter\n",
    "#ax.set_title(title)\n",
    "#ax.set_ylabel(y_label)\n",
    "plt.savefig(\"official_all_time.png\",bbox_inches='tight',dpi=300)\n",
    "# all color#57aeff "
   ]
  },
  {
   "cell_type": "code",
   "execution_count": null,
   "id": "f5e83d34-c3ef-4347-846e-a4ef30c4757e",
   "metadata": {},
   "outputs": [],
   "source": [
    "start = officials.index.searchsorted(dt.datetime(2023, 1, 1))\n",
    "officials_2023 = officials.iloc[start:]\n",
    "ax = officials_2023.plot(color = [\"#f75802\"],title=title,ylabel=y_label)\n",
    "plt.savefig(\"official_2023.png\",bbox_inches='tight',dpi=300)"
   ]
  },
  {
   "cell_type": "code",
   "execution_count": null,
   "id": "4f8da5e5-1743-40a6-8f6c-450b11656fd7",
   "metadata": {},
   "outputs": [],
   "source": [
    "rr = officials.to_frame()\n",
    "rr[\"all broadcasts\"] = broadcast\n",
    "title = \"Rolling Average of Active Lichess Broadcasts\"\n",
    "ax = rr.plot(color = [\"#f75802\", \"#57aeff\"],title=title,ylabel=y_label)\n",
    "plt.savefig(\"all_all_time.png\",bbox_inches='tight',dpi=300)"
   ]
  },
  {
   "cell_type": "code",
   "execution_count": null,
   "id": "00edc675-da0b-4f61-aca4-3c5f09058ff7",
   "metadata": {},
   "outputs": [],
   "source": []
  }
 ],
 "metadata": {
  "kernelspec": {
   "display_name": "Python 3 (ipykernel)",
   "language": "python",
   "name": "python3"
  },
  "language_info": {
   "codemirror_mode": {
    "name": "ipython",
    "version": 3
   },
   "file_extension": ".py",
   "mimetype": "text/x-python",
   "name": "python",
   "nbconvert_exporter": "python",
   "pygments_lexer": "ipython3",
   "version": "3.11.6"
  }
 },
 "nbformat": 4,
 "nbformat_minor": 5
}
